{
 "cells": [
  {
   "cell_type": "code",
   "execution_count": 1,
   "id": "de1b4d73",
   "metadata": {},
   "outputs": [],
   "source": [
    "import numpy as np\n",
    "import pandas as pd\n",
    "import matplotlib.pyplot as plt\n",
    "import seaborn as sns\n",
    "from sklearn.preprocessing import LabelEncoder\n",
    "from sklearn.feature_extraction.text import TfidfVectorizer\n",
    "from sklearn.model_selection import train_test_split\n",
    "from sklearn.linear_model import LogisticRegression\n",
    "from sklearn.tree import DecisionTreeClassifier\n",
    "from sklearn.ensemble import RandomForestClassifier\n",
    "from sklearn.naive_bayes import MultinomialNB\n",
    "from sklearn.neighbors import KNeighborsClassifier\n",
    "from sklearn.svm import SVC\n",
    "from sklearn.linear_model import SGDClassifier\n",
    "from sklearn.naive_bayes import MultinomialNB\n",
    "from sklearn.metrics import classification_report,accuracy_score,precision_score,recall_score,f1_score\n",
    "from sklearn.metrics import roc_curve, roc_auc_score\n",
    "from sklearn.metrics import average_precision_score,roc_auc_score, roc_curve, precision_recall_curve"
   ]
  },
  {
   "cell_type": "code",
   "execution_count": 4,
   "id": "8b9e9452",
   "metadata": {},
   "outputs": [
    {
     "data": {
      "text/html": [
       "<div>\n",
       "<style scoped>\n",
       "    .dataframe tbody tr th:only-of-type {\n",
       "        vertical-align: middle;\n",
       "    }\n",
       "\n",
       "    .dataframe tbody tr th {\n",
       "        vertical-align: top;\n",
       "    }\n",
       "\n",
       "    .dataframe thead th {\n",
       "        text-align: right;\n",
       "    }\n",
       "</style>\n",
       "<table border=\"1\" class=\"dataframe\">\n",
       "  <thead>\n",
       "    <tr style=\"text-align: right;\">\n",
       "      <th></th>\n",
       "      <th>Unnamed: 0</th>\n",
       "      <th>content</th>\n",
       "      <th>label</th>\n",
       "      <th>length</th>\n",
       "    </tr>\n",
       "  </thead>\n",
       "  <tbody>\n",
       "    <tr>\n",
       "      <th>0</th>\n",
       "      <td>0</td>\n",
       "      <td>চট্টগ্রাম প্রিমিয়ার বিশ্ববিদ্যালয়ের দামপাড়া ভব...</td>\n",
       "      <td>1</td>\n",
       "      <td>157</td>\n",
       "    </tr>\n",
       "    <tr>\n",
       "      <th>1</th>\n",
       "      <td>1</td>\n",
       "      <td>কক্সবাজারের রামুতে বৌদ্ধ বিহার বসতিতে হামলার স...</td>\n",
       "      <td>1</td>\n",
       "      <td>386</td>\n",
       "    </tr>\n",
       "    <tr>\n",
       "      <th>2</th>\n",
       "      <td>2</td>\n",
       "      <td>গার্লফ্রেন্ড দেয়া জিপিএ পেলে যেনো মায়ের হাতের ...</td>\n",
       "      <td>0</td>\n",
       "      <td>76</td>\n",
       "    </tr>\n",
       "    <tr>\n",
       "      <th>3</th>\n",
       "      <td>3</td>\n",
       "      <td>কারণে বিখ্যাত বন্দর নগরী চট্টগ্রাম পাশ্চাত্যের...</td>\n",
       "      <td>0</td>\n",
       "      <td>112</td>\n",
       "    </tr>\n",
       "    <tr>\n",
       "      <th>4</th>\n",
       "      <td>4</td>\n",
       "      <td>বাম গণতান্ত্রিক জোটের নির্বাচন কমিশন ইসি কার্য...</td>\n",
       "      <td>1</td>\n",
       "      <td>146</td>\n",
       "    </tr>\n",
       "  </tbody>\n",
       "</table>\n",
       "</div>"
      ],
      "text/plain": [
       "   Unnamed: 0                                            content  label  \\\n",
       "0           0  চট্টগ্রাম প্রিমিয়ার বিশ্ববিদ্যালয়ের দামপাড়া ভব...      1   \n",
       "1           1  কক্সবাজারের রামুতে বৌদ্ধ বিহার বসতিতে হামলার স...      1   \n",
       "2           2  গার্লফ্রেন্ড দেয়া জিপিএ পেলে যেনো মায়ের হাতের ...      0   \n",
       "3           3  কারণে বিখ্যাত বন্দর নগরী চট্টগ্রাম পাশ্চাত্যের...      0   \n",
       "4           4  বাম গণতান্ত্রিক জোটের নির্বাচন কমিশন ইসি কার্য...      1   \n",
       "\n",
       "   length  \n",
       "0     157  \n",
       "1     386  \n",
       "2      76  \n",
       "3     112  \n",
       "4     146  "
      ]
     },
     "execution_count": 4,
     "metadata": {},
     "output_type": "execute_result"
    }
   ],
   "source": [
    "data = pd.read_excel('./dataset/preprocessed.xlsx')\n",
    "data.head()"
   ]
  },
  {
   "cell_type": "code",
   "execution_count": 5,
   "id": "5e0f2272",
   "metadata": {},
   "outputs": [],
   "source": [
    "data = data[data['content'].notna()]\n",
    "data = data[data['label'].notna()]"
   ]
  },
  {
   "cell_type": "code",
   "execution_count": 6,
   "id": "4f85d035",
   "metadata": {},
   "outputs": [],
   "source": [
    "def calc_unigram_tfidf(reviews):\n",
    "    tfidf = TfidfVectorizer(use_idf=True,tokenizer=lambda x: x.split()) \n",
    "    X = tfidf.fit_transform(reviews.values.astype('U'))\n",
    "    return tfidf,X\n",
    "\n",
    "def label_encoding(label):\n",
    "    le = LabelEncoder()\n",
    "    le.fit(label)\n",
    "    encoded_labels = le.transform(label)\n",
    "    labels = np.array(encoded_labels) # Converting into numpy array\n",
    "    class_names =le.classes_ ## Define the class names again\n",
    "    return labels\n",
    "\n",
    "def dataset_split(feature_space,sentiment):\n",
    "    X_train,X_test,y_train,y_test = train_test_split(feature_space,sentiment,train_size = 0.7,test_size = 0.3,random_state=0)\n",
    "    return X_train,X_test,y_train,y_test"
   ]
  },
  {
   "cell_type": "code",
   "execution_count": 7,
   "id": "7abe2ec0",
   "metadata": {},
   "outputs": [],
   "source": [
    "def models_results(X_train, X_test, y_train,y_test):\n",
    "    print(\"-----------Multinomial Naive----------------\")\n",
    "    MNB = MultinomialNB()\n",
    "    MNB.fit(X_train, y_train)\n",
    "    y_pred = MNB.predict(X_test)\n",
    "    print(classification_report(y_test, y_pred))\n",
    "    print(\"---------------------------------------\")\n",
    "    print(\"-----------Support Vector Machine----------------\")\n",
    "    svc = SVC()\n",
    "    svc.fit(X_train, y_train)\n",
    "    y_pred = svc.predict(X_test)\n",
    "    print(classification_report(y_test, y_pred))\n",
    "    print(\"---------------------------------------\")\n",
    "    print(\"-----------Random Forest----------------\")\n",
    "    rf = RandomForestClassifier(n_estimators=100, criterion ='entropy', random_state = 0)\n",
    "    rf.fit(X_train, y_train)\n",
    "    y_pred = rf.predict(X_test)\n",
    "    print(classification_report(y_test, y_pred))\n",
    "    print(\"---------------------------------------\")\n",
    "    print(\"-----------Logistic Regression----------------\")\n",
    "    lr = LogisticRegression(random_state = 123)\n",
    "    lr.fit(X_train, y_train)\n",
    "    y_pred = lr.predict(X_test)\n",
    "    print(classification_report(y_test, y_pred))\n",
    "    print(\"---------------------------------------\")"
   ]
  },
  {
   "cell_type": "code",
   "execution_count": 8,
   "id": "aca2bb66",
   "metadata": {},
   "outputs": [
    {
     "name": "stdout",
     "output_type": "stream",
     "text": [
      "[1 1 0 ... 0 1 0]\n"
     ]
    }
   ],
   "source": [
    "# calculate the Unigram Tf-idf feature\n",
    "cv,feature_vector = calc_unigram_tfidf(data.content)\n",
    "# Encode the labels\n",
    "labels = label_encoding(data.label)\n",
    "print(labels)\n",
    "# Split the Feature into train and test set\n",
    "X_train_cleaned,X_test_cleaned,y_train_cleaned,y_test_cleaned = dataset_split(feature_space=feature_vector,sentiment=labels)"
   ]
  },
  {
   "cell_type": "code",
   "execution_count": 9,
   "id": "5aed9539",
   "metadata": {},
   "outputs": [
    {
     "name": "stdout",
     "output_type": "stream",
     "text": [
      "2000\n",
      "(1400, 52233)\n",
      "(600, 52233)\n"
     ]
    }
   ],
   "source": [
    "print(len(labels))\n",
    "print(X_train_cleaned.shape)\n",
    "print(X_test_cleaned.shape)"
   ]
  },
  {
   "cell_type": "code",
   "execution_count": 10,
   "id": "169e7907",
   "metadata": {},
   "outputs": [
    {
     "name": "stdout",
     "output_type": "stream",
     "text": [
      "-----------Multinomial Naive----------------\n",
      "              precision    recall  f1-score   support\n",
      "\n",
      "           0       0.94      0.84      0.89       306\n",
      "           1       0.85      0.94      0.89       294\n",
      "\n",
      "    accuracy                           0.89       600\n",
      "   macro avg       0.90      0.89      0.89       600\n",
      "weighted avg       0.90      0.89      0.89       600\n",
      "\n",
      "---------------------------------------\n",
      "-----------Support Vector Machine----------------\n",
      "              precision    recall  f1-score   support\n",
      "\n",
      "           0       0.92      0.92      0.92       306\n",
      "           1       0.92      0.92      0.92       294\n",
      "\n",
      "    accuracy                           0.92       600\n",
      "   macro avg       0.92      0.92      0.92       600\n",
      "weighted avg       0.92      0.92      0.92       600\n",
      "\n",
      "---------------------------------------\n",
      "-----------Random Forest----------------\n",
      "              precision    recall  f1-score   support\n",
      "\n",
      "           0       0.89      0.88      0.88       306\n",
      "           1       0.87      0.89      0.88       294\n",
      "\n",
      "    accuracy                           0.88       600\n",
      "   macro avg       0.88      0.88      0.88       600\n",
      "weighted avg       0.88      0.88      0.88       600\n",
      "\n",
      "---------------------------------------\n",
      "-----------Logistic Regression----------------\n",
      "              precision    recall  f1-score   support\n",
      "\n",
      "           0       0.91      0.91      0.91       306\n",
      "           1       0.91      0.91      0.91       294\n",
      "\n",
      "    accuracy                           0.91       600\n",
      "   macro avg       0.91      0.91      0.91       600\n",
      "weighted avg       0.91      0.91      0.91       600\n",
      "\n",
      "---------------------------------------\n"
     ]
    }
   ],
   "source": [
    "models_results(X_train_cleaned,X_test_cleaned,y_train_cleaned,y_test_cleaned)"
   ]
  },
  {
   "cell_type": "code",
   "execution_count": null,
   "id": "8aa54718",
   "metadata": {},
   "outputs": [],
   "source": []
  }
 ],
 "metadata": {
  "kernelspec": {
   "display_name": "py37",
   "language": "python",
   "name": "py37"
  },
  "language_info": {
   "codemirror_mode": {
    "name": "ipython",
    "version": 3
   },
   "file_extension": ".py",
   "mimetype": "text/x-python",
   "name": "python",
   "nbconvert_exporter": "python",
   "pygments_lexer": "ipython3",
   "version": "3.8.8"
  }
 },
 "nbformat": 4,
 "nbformat_minor": 5
}
