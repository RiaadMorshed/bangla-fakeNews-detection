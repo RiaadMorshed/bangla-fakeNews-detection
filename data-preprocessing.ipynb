{
 "cells": [
  {
   "cell_type": "code",
   "execution_count": 1,
   "id": "66e8cd2f",
   "metadata": {},
   "outputs": [],
   "source": [
    "import numpy as np\n",
    "import pandas as pd"
   ]
  },
  {
   "cell_type": "code",
   "execution_count": 2,
   "id": "dbda376c",
   "metadata": {},
   "outputs": [
    {
     "data": {
      "text/html": [
       "<div>\n",
       "<style scoped>\n",
       "    .dataframe tbody tr th:only-of-type {\n",
       "        vertical-align: middle;\n",
       "    }\n",
       "\n",
       "    .dataframe tbody tr th {\n",
       "        vertical-align: top;\n",
       "    }\n",
       "\n",
       "    .dataframe thead th {\n",
       "        text-align: right;\n",
       "    }\n",
       "</style>\n",
       "<table border=\"1\" class=\"dataframe\">\n",
       "  <thead>\n",
       "    <tr style=\"text-align: right;\">\n",
       "      <th></th>\n",
       "      <th>articleID</th>\n",
       "      <th>domain</th>\n",
       "      <th>date</th>\n",
       "      <th>category</th>\n",
       "      <th>source</th>\n",
       "      <th>relation</th>\n",
       "      <th>headline</th>\n",
       "      <th>content</th>\n",
       "      <th>label</th>\n",
       "      <th>F-type</th>\n",
       "    </tr>\n",
       "  </thead>\n",
       "  <tbody>\n",
       "    <tr>\n",
       "      <th>0</th>\n",
       "      <td>1</td>\n",
       "      <td>channeldhaka.news</td>\n",
       "      <td>2019-03-14T13:34:14+00:00</td>\n",
       "      <td>International</td>\n",
       "      <td>Reporter</td>\n",
       "      <td>Unrelated</td>\n",
       "      <td>মুরগির হামলায় শেয়াল নিহত</td>\n",
       "      <td>বাংলায় একটা প্রবাদ আছে, শেয়ালের কাছে মুরগী বর্...</td>\n",
       "      <td>0</td>\n",
       "      <td>Satire</td>\n",
       "    </tr>\n",
       "    <tr>\n",
       "      <th>1</th>\n",
       "      <td>2</td>\n",
       "      <td>earki.com</td>\n",
       "      <td>সেম্বর ১৭, ২০১৮</td>\n",
       "      <td>Miscellaneous</td>\n",
       "      <td>Reporter</td>\n",
       "      <td>Unrelated</td>\n",
       "      <td>বিটিভিতে যেবার আমি ইন্টারভিউ দিতে গেলাম</td>\n",
       "      <td>BTV থেকে লোকজন আসছে, ইন্টারভিউ নিবে।চারজনের টি...</td>\n",
       "      <td>0</td>\n",
       "      <td>Satire</td>\n",
       "    </tr>\n",
       "    <tr>\n",
       "      <th>2</th>\n",
       "      <td>3</td>\n",
       "      <td>earki.com</td>\n",
       "      <td>২০:৩৯, জানুয়ারি ১৪, ২০১৯</td>\n",
       "      <td>Miscellaneous</td>\n",
       "      <td>Reporter</td>\n",
       "      <td>Unrelated</td>\n",
       "      <td>বিদেশ থেকে উন্নতমানের বিরোধীদল আমদানি করার পরা...</td>\n",
       "      <td>অদ্ভুত বিরোধীদলহীনতায় ভুগছে সরকার। এ এক অন্যরক...</td>\n",
       "      <td>0</td>\n",
       "      <td>Satire</td>\n",
       "    </tr>\n",
       "    <tr>\n",
       "      <th>3</th>\n",
       "      <td>4</td>\n",
       "      <td>channeldhaka.news</td>\n",
       "      <td>2018-06-30T15:56:47+00:00</td>\n",
       "      <td>Sports</td>\n",
       "      <td>Reporter</td>\n",
       "      <td>Unrelated</td>\n",
       "      <td>অবসর নেয়ার ঘোষণা দিলেন মেসি !</td>\n",
       "      <td>রাশিয়া বিশ্বকাপ নকআউট পর্বে ফ্রান্সের সাথে ৪-৩...</td>\n",
       "      <td>0</td>\n",
       "      <td>Satire</td>\n",
       "    </tr>\n",
       "    <tr>\n",
       "      <th>4</th>\n",
       "      <td>5</td>\n",
       "      <td>motikontho.wordpress.com</td>\n",
       "      <td>2013-03-05T21:55:45+00:00</td>\n",
       "      <td>Miscellaneous</td>\n",
       "      <td>Reporter</td>\n",
       "      <td>Unrelated</td>\n",
       "      <td>মাদারফাকার নহে, ব্রাদারফাকার: সাকা | দৈনিক মতি...</td>\n",
       "      <td>নিজস্ব মতিবেদক‘মাদারফাকার নহে, আমি ব্রাদারফাকা...</td>\n",
       "      <td>0</td>\n",
       "      <td>Satire</td>\n",
       "    </tr>\n",
       "  </tbody>\n",
       "</table>\n",
       "</div>"
      ],
      "text/plain": [
       "   articleID                    domain                        date  \\\n",
       "0          1         channeldhaka.news   2019-03-14T13:34:14+00:00   \n",
       "1          2                 earki.com            সেম্বর ১৭, ২০১৮    \n",
       "2          3                 earki.com  ২০:৩৯, জানুয়ারি ১৪, ২০১৯    \n",
       "3          4         channeldhaka.news   2018-06-30T15:56:47+00:00   \n",
       "4          5  motikontho.wordpress.com   2013-03-05T21:55:45+00:00   \n",
       "\n",
       "        category    source   relation  \\\n",
       "0  International  Reporter  Unrelated   \n",
       "1  Miscellaneous  Reporter  Unrelated   \n",
       "2  Miscellaneous  Reporter  Unrelated   \n",
       "3         Sports  Reporter  Unrelated   \n",
       "4  Miscellaneous  Reporter  Unrelated   \n",
       "\n",
       "                                            headline  \\\n",
       "0                           মুরগির হামলায় শেয়াল নিহত   \n",
       "1            বিটিভিতে যেবার আমি ইন্টারভিউ দিতে গেলাম   \n",
       "2  বিদেশ থেকে উন্নতমানের বিরোধীদল আমদানি করার পরা...   \n",
       "3                      অবসর নেয়ার ঘোষণা দিলেন মেসি !   \n",
       "4  মাদারফাকার নহে, ব্রাদারফাকার: সাকা | দৈনিক মতি...   \n",
       "\n",
       "                                             content  label  F-type  \n",
       "0  বাংলায় একটা প্রবাদ আছে, শেয়ালের কাছে মুরগী বর্...      0  Satire  \n",
       "1  BTV থেকে লোকজন আসছে, ইন্টারভিউ নিবে।চারজনের টি...      0  Satire  \n",
       "2  অদ্ভুত বিরোধীদলহীনতায় ভুগছে সরকার। এ এক অন্যরক...      0  Satire  \n",
       "3  রাশিয়া বিশ্বকাপ নকআউট পর্বে ফ্রান্সের সাথে ৪-৩...      0  Satire  \n",
       "4  নিজস্ব মতিবেদক‘মাদারফাকার নহে, আমি ব্রাদারফাকা...      0  Satire  "
      ]
     },
     "execution_count": 2,
     "metadata": {},
     "output_type": "execute_result"
    }
   ],
   "source": [
    "fake = pd.read_csv('./dataset/LabeledFake-1K.csv')\n",
    "real = pd.read_csv('./dataset/LabeledAuthentic-7K.csv')\n",
    "fake.head()"
   ]
  },
  {
   "cell_type": "code",
   "execution_count": 3,
   "id": "ac3af667",
   "metadata": {},
   "outputs": [
    {
     "name": "stdout",
     "output_type": "stream",
     "text": [
      "(1299, 2)\n"
     ]
    },
    {
     "data": {
      "text/html": [
       "<div>\n",
       "<style scoped>\n",
       "    .dataframe tbody tr th:only-of-type {\n",
       "        vertical-align: middle;\n",
       "    }\n",
       "\n",
       "    .dataframe tbody tr th {\n",
       "        vertical-align: top;\n",
       "    }\n",
       "\n",
       "    .dataframe thead th {\n",
       "        text-align: right;\n",
       "    }\n",
       "</style>\n",
       "<table border=\"1\" class=\"dataframe\">\n",
       "  <thead>\n",
       "    <tr style=\"text-align: right;\">\n",
       "      <th></th>\n",
       "      <th>content</th>\n",
       "      <th>label</th>\n",
       "    </tr>\n",
       "  </thead>\n",
       "  <tbody>\n",
       "    <tr>\n",
       "      <th>0</th>\n",
       "      <td>বাংলায় একটা প্রবাদ আছে, শেয়ালের কাছে মুরগী বর্...</td>\n",
       "      <td>0</td>\n",
       "    </tr>\n",
       "    <tr>\n",
       "      <th>1</th>\n",
       "      <td>BTV থেকে লোকজন আসছে, ইন্টারভিউ নিবে।চারজনের টি...</td>\n",
       "      <td>0</td>\n",
       "    </tr>\n",
       "    <tr>\n",
       "      <th>2</th>\n",
       "      <td>অদ্ভুত বিরোধীদলহীনতায় ভুগছে সরকার। এ এক অন্যরক...</td>\n",
       "      <td>0</td>\n",
       "    </tr>\n",
       "    <tr>\n",
       "      <th>3</th>\n",
       "      <td>রাশিয়া বিশ্বকাপ নকআউট পর্বে ফ্রান্সের সাথে ৪-৩...</td>\n",
       "      <td>0</td>\n",
       "    </tr>\n",
       "    <tr>\n",
       "      <th>4</th>\n",
       "      <td>নিজস্ব মতিবেদক‘মাদারফাকার নহে, আমি ব্রাদারফাকা...</td>\n",
       "      <td>0</td>\n",
       "    </tr>\n",
       "  </tbody>\n",
       "</table>\n",
       "</div>"
      ],
      "text/plain": [
       "                                             content  label\n",
       "0  বাংলায় একটা প্রবাদ আছে, শেয়ালের কাছে মুরগী বর্...      0\n",
       "1  BTV থেকে লোকজন আসছে, ইন্টারভিউ নিবে।চারজনের টি...      0\n",
       "2  অদ্ভুত বিরোধীদলহীনতায় ভুগছে সরকার। এ এক অন্যরক...      0\n",
       "3  রাশিয়া বিশ্বকাপ নকআউট পর্বে ফ্রান্সের সাথে ৪-৩...      0\n",
       "4  নিজস্ব মতিবেদক‘মাদারফাকার নহে, আমি ব্রাদারফাকা...      0"
      ]
     },
     "execution_count": 3,
     "metadata": {},
     "output_type": "execute_result"
    }
   ],
   "source": [
    "fake = fake[['content', 'label']]\n",
    "print(fake.shape)\n",
    "fake.head()"
   ]
  },
  {
   "cell_type": "code",
   "execution_count": 4,
   "id": "7b2930f1",
   "metadata": {},
   "outputs": [
    {
     "name": "stdout",
     "output_type": "stream",
     "text": [
      "(7202, 2)\n"
     ]
    },
    {
     "data": {
      "text/html": [
       "<div>\n",
       "<style scoped>\n",
       "    .dataframe tbody tr th:only-of-type {\n",
       "        vertical-align: middle;\n",
       "    }\n",
       "\n",
       "    .dataframe tbody tr th {\n",
       "        vertical-align: top;\n",
       "    }\n",
       "\n",
       "    .dataframe thead th {\n",
       "        text-align: right;\n",
       "    }\n",
       "</style>\n",
       "<table border=\"1\" class=\"dataframe\">\n",
       "  <thead>\n",
       "    <tr style=\"text-align: right;\">\n",
       "      <th></th>\n",
       "      <th>content</th>\n",
       "      <th>label</th>\n",
       "    </tr>\n",
       "  </thead>\n",
       "  <tbody>\n",
       "    <tr>\n",
       "      <th>0</th>\n",
       "      <td>ক্রিকেট বিশ্বের নতুন চমকের নাম আফগানিস্তান। কয়...</td>\n",
       "      <td>1</td>\n",
       "    </tr>\n",
       "    <tr>\n",
       "      <th>1</th>\n",
       "      <td>এশিয়া কাপের ষষ্ঠ ম্যাচে বাংলাদেশ দলের বিপক্ষে ...</td>\n",
       "      <td>1</td>\n",
       "    </tr>\n",
       "    <tr>\n",
       "      <th>2</th>\n",
       "      <td>রাজধানীতে মাদক বিরোধী বিশেষ অভিযান পরিচালনা কর...</td>\n",
       "      <td>1</td>\n",
       "    </tr>\n",
       "    <tr>\n",
       "      <th>3</th>\n",
       "      <td>সনাতন ধর্মাবলম্বীদের সবচেয়ে বড় ধর্মীয় উৎসব দুর...</td>\n",
       "      <td>1</td>\n",
       "    </tr>\n",
       "    <tr>\n",
       "      <th>4</th>\n",
       "      <td>ভারত থেকে পাইপ লাইনের মাধ্যমে সরাসরি দেশে জ্বা...</td>\n",
       "      <td>1</td>\n",
       "    </tr>\n",
       "  </tbody>\n",
       "</table>\n",
       "</div>"
      ],
      "text/plain": [
       "                                             content  label\n",
       "0  ক্রিকেট বিশ্বের নতুন চমকের নাম আফগানিস্তান। কয়...      1\n",
       "1  এশিয়া কাপের ষষ্ঠ ম্যাচে বাংলাদেশ দলের বিপক্ষে ...      1\n",
       "2  রাজধানীতে মাদক বিরোধী বিশেষ অভিযান পরিচালনা কর...      1\n",
       "3  সনাতন ধর্মাবলম্বীদের সবচেয়ে বড় ধর্মীয় উৎসব দুর...      1\n",
       "4  ভারত থেকে পাইপ লাইনের মাধ্যমে সরাসরি দেশে জ্বা...      1"
      ]
     },
     "execution_count": 4,
     "metadata": {},
     "output_type": "execute_result"
    }
   ],
   "source": [
    "real = real[['content', 'label']]\n",
    "real['label'] = 1\n",
    "print(real.shape)\n",
    "real.head()"
   ]
  },
  {
   "cell_type": "code",
   "execution_count": 5,
   "id": "8fae4cb0",
   "metadata": {},
   "outputs": [
    {
     "name": "stdout",
     "output_type": "stream",
     "text": [
      "(1000, 2)\n",
      "(1000, 2)\n",
      "(2000, 2)\n"
     ]
    },
    {
     "data": {
      "text/html": [
       "<div>\n",
       "<style scoped>\n",
       "    .dataframe tbody tr th:only-of-type {\n",
       "        vertical-align: middle;\n",
       "    }\n",
       "\n",
       "    .dataframe tbody tr th {\n",
       "        vertical-align: top;\n",
       "    }\n",
       "\n",
       "    .dataframe thead th {\n",
       "        text-align: right;\n",
       "    }\n",
       "</style>\n",
       "<table border=\"1\" class=\"dataframe\">\n",
       "  <thead>\n",
       "    <tr style=\"text-align: right;\">\n",
       "      <th></th>\n",
       "      <th>content</th>\n",
       "      <th>label</th>\n",
       "    </tr>\n",
       "  </thead>\n",
       "  <tbody>\n",
       "    <tr>\n",
       "      <th>0</th>\n",
       "      <td>লাইলাতুল কদর শান্তিময় এক রজনী। আল্লাহ পাক এ রজ...</td>\n",
       "      <td>0</td>\n",
       "    </tr>\n",
       "    <tr>\n",
       "      <th>1</th>\n",
       "      <td>ব্রিটিশ আমলের আইন বাতিল করে সুপ্রিম কোর্টের দে...</td>\n",
       "      <td>0</td>\n",
       "    </tr>\n",
       "    <tr>\n",
       "      <th>2</th>\n",
       "      <td>জনপ্রিয় রম্য পত্রিকা ‘উন্মাদ’ এর সম্পাদক আহসান...</td>\n",
       "      <td>0</td>\n",
       "    </tr>\n",
       "    <tr>\n",
       "      <th>3</th>\n",
       "      <td>ইন্টারনেট ব্যবহারে কড়াকড়ি আরোপ করে নতুন আইন ...</td>\n",
       "      <td>0</td>\n",
       "    </tr>\n",
       "    <tr>\n",
       "      <th>4</th>\n",
       "      <td>এক নব দম্পতির বিয়ের রাতে জামাই বৌকে বলছে-‘আমি...</td>\n",
       "      <td>0</td>\n",
       "    </tr>\n",
       "  </tbody>\n",
       "</table>\n",
       "</div>"
      ],
      "text/plain": [
       "                                             content  label\n",
       "0  লাইলাতুল কদর শান্তিময় এক রজনী। আল্লাহ পাক এ রজ...      0\n",
       "1  ব্রিটিশ আমলের আইন বাতিল করে সুপ্রিম কোর্টের দে...      0\n",
       "2  জনপ্রিয় রম্য পত্রিকা ‘উন্মাদ’ এর সম্পাদক আহসান...      0\n",
       "3  ইন্টারনেট ব্যবহারে কড়াকড়ি আরোপ করে নতুন আইন ...      0\n",
       "4  এক নব দম্পতির বিয়ের রাতে জামাই বৌকে বলছে-‘আমি...      0"
      ]
     },
     "execution_count": 5,
     "metadata": {},
     "output_type": "execute_result"
    }
   ],
   "source": [
    "fake = fake.sample(1000)\n",
    "real = real.sample(1000)\n",
    "print(fake.shape)\n",
    "print(real.shape)\n",
    "\n",
    "data = pd.concat([fake, real], ignore_index=True)\n",
    "print(data.shape)\n",
    "data.head()"
   ]
  },
  {
   "cell_type": "code",
   "execution_count": 6,
   "id": "85cb32de",
   "metadata": {},
   "outputs": [
    {
     "data": {
      "text/html": [
       "<div>\n",
       "<style scoped>\n",
       "    .dataframe tbody tr th:only-of-type {\n",
       "        vertical-align: middle;\n",
       "    }\n",
       "\n",
       "    .dataframe tbody tr th {\n",
       "        vertical-align: top;\n",
       "    }\n",
       "\n",
       "    .dataframe thead th {\n",
       "        text-align: right;\n",
       "    }\n",
       "</style>\n",
       "<table border=\"1\" class=\"dataframe\">\n",
       "  <thead>\n",
       "    <tr style=\"text-align: right;\">\n",
       "      <th></th>\n",
       "      <th>content</th>\n",
       "      <th>label</th>\n",
       "    </tr>\n",
       "  </thead>\n",
       "  <tbody>\n",
       "    <tr>\n",
       "      <th>0</th>\n",
       "      <td>চট্টগ্রাম: প্রিমিয়ার বিশ্ববিদ্যালয়ের দামপাড়া ভ...</td>\n",
       "      <td>1</td>\n",
       "    </tr>\n",
       "    <tr>\n",
       "      <th>1</th>\n",
       "      <td>কক্সবাজারের রামুতে বৌদ্ধ বিহার ও বসতিতে হামলার...</td>\n",
       "      <td>1</td>\n",
       "    </tr>\n",
       "    <tr>\n",
       "      <th>2</th>\n",
       "      <td>গার্লফ্রেন্ড দেয়া হবে জিপিএ ৫ পেলে ! এ যেনো মা...</td>\n",
       "      <td>0</td>\n",
       "    </tr>\n",
       "    <tr>\n",
       "      <th>3</th>\n",
       "      <td>নানা কারণে বিখ্যাত বন্দর নগরী চট্টগ্রাম। পাশ্চ...</td>\n",
       "      <td>0</td>\n",
       "    </tr>\n",
       "    <tr>\n",
       "      <th>4</th>\n",
       "      <td>বাম গণতান্ত্রিক জোটের নির্বাচন কমিশন (ইসি) কার...</td>\n",
       "      <td>1</td>\n",
       "    </tr>\n",
       "  </tbody>\n",
       "</table>\n",
       "</div>"
      ],
      "text/plain": [
       "                                             content  label\n",
       "0  চট্টগ্রাম: প্রিমিয়ার বিশ্ববিদ্যালয়ের দামপাড়া ভ...      1\n",
       "1  কক্সবাজারের রামুতে বৌদ্ধ বিহার ও বসতিতে হামলার...      1\n",
       "2  গার্লফ্রেন্ড দেয়া হবে জিপিএ ৫ পেলে ! এ যেনো মা...      0\n",
       "3  নানা কারণে বিখ্যাত বন্দর নগরী চট্টগ্রাম। পাশ্চ...      0\n",
       "4  বাম গণতান্ত্রিক জোটের নির্বাচন কমিশন (ইসি) কার...      1"
      ]
     },
     "execution_count": 6,
     "metadata": {},
     "output_type": "execute_result"
    }
   ],
   "source": [
    "from sklearn.utils import shuffle\n",
    "data = shuffle(data)\n",
    "data.reset_index(inplace=True, drop=True)\n",
    "data.head()"
   ]
  },
  {
   "cell_type": "markdown",
   "id": "afa2147c",
   "metadata": {},
   "source": [
    "# Data Cleaning"
   ]
  },
  {
   "cell_type": "code",
   "execution_count": 8,
   "id": "e6f93171",
   "metadata": {},
   "outputs": [
    {
     "name": "stderr",
     "output_type": "stream",
     "text": [
      "C:\\Users\\riaad\\anaconda3\\lib\\site-packages\\gensim\\similarities\\__init__.py:15: UserWarning: The gensim.similarities.levenshtein submodule is disabled, because the optional Levenshtein package <https://pypi.org/project/python-Levenshtein/> is unavailable. Install Levenhstein (e.g. `pip install python-Levenshtein`) to suppress this warning.\n",
      "  warnings.warn(msg)\n"
     ]
    }
   ],
   "source": [
    "from bnlp import BasicTokenizer\n",
    "from bnlp.corpus import stopwords, punctuations, letters, digits\n",
    "btokenizer = BasicTokenizer()\n",
    "\n",
    "def is_english(word):\n",
    "    if ((word[0]>= 'a' and word[0] <= 'z') or (word[0]>= 'A' and word[0] <= 'Z')):\n",
    "        return True\n",
    "    else:\n",
    "        return False\n",
    "\n",
    "def clean_text(text):\n",
    "    tokens = btokenizer.tokenize(text)\n",
    "    filtered = []\n",
    "    for i in tokens:\n",
    "        if (i in stopwords) or (i in punctuations + '‘' + '’') or (i in digits) or (is_english(i)):\n",
    "            continue\n",
    "        filtered.append(i)\n",
    "    return \" \".join(filtered)"
   ]
  },
  {
   "cell_type": "code",
   "execution_count": 9,
   "id": "fc9f0b75",
   "metadata": {},
   "outputs": [
    {
     "data": {
      "text/html": [
       "<div>\n",
       "<style scoped>\n",
       "    .dataframe tbody tr th:only-of-type {\n",
       "        vertical-align: middle;\n",
       "    }\n",
       "\n",
       "    .dataframe tbody tr th {\n",
       "        vertical-align: top;\n",
       "    }\n",
       "\n",
       "    .dataframe thead th {\n",
       "        text-align: right;\n",
       "    }\n",
       "</style>\n",
       "<table border=\"1\" class=\"dataframe\">\n",
       "  <thead>\n",
       "    <tr style=\"text-align: right;\">\n",
       "      <th></th>\n",
       "      <th>content</th>\n",
       "      <th>label</th>\n",
       "    </tr>\n",
       "  </thead>\n",
       "  <tbody>\n",
       "    <tr>\n",
       "      <th>0</th>\n",
       "      <td>চট্টগ্রাম প্রিমিয়ার বিশ্ববিদ্যালয়ের দামপাড়া ভব...</td>\n",
       "      <td>1</td>\n",
       "    </tr>\n",
       "    <tr>\n",
       "      <th>1</th>\n",
       "      <td>কক্সবাজারের রামুতে বৌদ্ধ বিহার বসতিতে হামলার স...</td>\n",
       "      <td>1</td>\n",
       "    </tr>\n",
       "    <tr>\n",
       "      <th>2</th>\n",
       "      <td>গার্লফ্রেন্ড দেয়া জিপিএ পেলে যেনো মায়ের হাতের ...</td>\n",
       "      <td>0</td>\n",
       "    </tr>\n",
       "    <tr>\n",
       "      <th>3</th>\n",
       "      <td>কারণে বিখ্যাত বন্দর নগরী চট্টগ্রাম পাশ্চাত্যের...</td>\n",
       "      <td>0</td>\n",
       "    </tr>\n",
       "    <tr>\n",
       "      <th>4</th>\n",
       "      <td>বাম গণতান্ত্রিক জোটের নির্বাচন কমিশন ইসি কার্য...</td>\n",
       "      <td>1</td>\n",
       "    </tr>\n",
       "  </tbody>\n",
       "</table>\n",
       "</div>"
      ],
      "text/plain": [
       "                                             content  label\n",
       "0  চট্টগ্রাম প্রিমিয়ার বিশ্ববিদ্যালয়ের দামপাড়া ভব...      1\n",
       "1  কক্সবাজারের রামুতে বৌদ্ধ বিহার বসতিতে হামলার স...      1\n",
       "2  গার্লফ্রেন্ড দেয়া জিপিএ পেলে যেনো মায়ের হাতের ...      0\n",
       "3  কারণে বিখ্যাত বন্দর নগরী চট্টগ্রাম পাশ্চাত্যের...      0\n",
       "4  বাম গণতান্ত্রিক জোটের নির্বাচন কমিশন ইসি কার্য...      1"
      ]
     },
     "execution_count": 9,
     "metadata": {},
     "output_type": "execute_result"
    }
   ],
   "source": [
    "data['content'] = data.content.apply(clean_text)\n",
    "data.head()"
   ]
  },
  {
   "cell_type": "markdown",
   "id": "f88ad02e",
   "metadata": {},
   "source": [
    "# Data summary"
   ]
  },
  {
   "cell_type": "code",
   "execution_count": 15,
   "id": "89848cda",
   "metadata": {},
   "outputs": [
    {
     "data": {
      "image/png": "[encoded data removed]",
      "text/plain": [
       "<Figure size 432x288 with 1 Axes>"
      ]
     },
     "metadata": {
      "needs_background": "light"
     },
     "output_type": "display_data"
    },
    {
     "name": "stdout",
     "output_type": "stream",
     "text": [
      "Maximum Length of a review(words): 1769\n",
      "Average Length of a reviews(words): 196.0\n"
     ]
    }
   ],
   "source": [
    "import matplotlib.pyplot as plt\n",
    "# Calculate the length of each of the Review\n",
    "data['length'] = data.content.apply(lambda x:len(x.split()))\n",
    "frequency = dict()\n",
    "for i in data.length:\n",
    "    frequency[i] = frequency.get(i, 0)+1\n",
    "    \n",
    "plt.bar(frequency.keys(), frequency.values(), color =\"b\")\n",
    "plt.xlim(1, 1469)\n",
    "# in this notbook color is not working but it should work.\n",
    "plt.xlabel('Numbers of words in the text')\n",
    "plt.ylabel('Frequency')\n",
    "plt.title('Length of each sentence')\n",
    "plt.savefig('Figures/sentence_length.png',dpi = 600,bbox_inches = 'tight')\n",
    "plt.show()  \n",
    "print(f\"Maximum Length of a review(words): {max(data.length)}\")\n",
    "print(f\"Average Length of a reviews(words): {round(np.mean(data.length),0)}\")"
   ]
  },
  {
   "cell_type": "code",
   "execution_count": 16,
   "id": "8048af77",
   "metadata": {},
   "outputs": [],
   "source": [
    "data.to_excel(\"dataset/preprocessed.xlsx\")"
   ]
  },
  {
   "cell_type": "code",
   "execution_count": null,
   "id": "a90538fa",
   "metadata": {},
   "outputs": [],
   "source": []
  }
 ],
 "metadata": {
  "kernelspec": {
   "display_name": "py37",
   "language": "python",
   "name": "py37"
  },
  "language_info": {
   "codemirror_mode": {
    "name": "ipython",
    "version": 3
   },
   "file_extension": ".py",
   "mimetype": "text/x-python",
   "name": "python",
   "nbconvert_exporter": "python",
   "pygments_lexer": "ipython3",
   "version": "3.8.8"
  }
 },
 "nbformat": 4,
 "nbformat_minor": 5
}
